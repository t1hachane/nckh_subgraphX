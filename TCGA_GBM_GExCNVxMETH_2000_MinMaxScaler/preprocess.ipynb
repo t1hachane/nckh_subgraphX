{
 "cells": [
  {
   "cell_type": "code",
   "execution_count": null,
   "metadata": {},
   "outputs": [
    {
     "name": "stdout",
     "output_type": "stream",
     "text": [
      "       V1  V2  V3  V4  V5  V6  V7  V8  V9  V10  ...  V1991  V1992  V1993  \\\n",
      "V1      1   0   1   1   1   0   1   1   0    0  ...      0      1      0   \n",
      "V2      0   1   1   0   0   0   0   0   0    0  ...      0      0      1   \n",
      "V3      1   1   1   1   0   0   0   0   0    0  ...      0      1      1   \n",
      "V4      1   0   1   1   1   0   1   0   0    0  ...      1      1      1   \n",
      "V5      1   0   0   1   1   0   1   0   0    0  ...      0      1      0   \n",
      "...    ..  ..  ..  ..  ..  ..  ..  ..  ..  ...  ...    ...    ...    ...   \n",
      "V1996   0   0   0   0   0   0   0   0   0    0  ...      0      0      0   \n",
      "V1997   1   0   1   1   1   0   1   0   0    0  ...      0      1      0   \n",
      "V1998   1   1   1   0   0   0   0   1   0    0  ...      1      1      1   \n",
      "V1999   0   0   0   0   0   0   0   0   0    0  ...      0      0      0   \n",
      "V2000   0   0   0   0   0   0   0   0   0    0  ...      0      1      0   \n",
      "\n",
      "       V1994  V1995  V1996  V1997  V1998  V1999  V2000  \n",
      "V1         0      0      0      1      1      0      0  \n",
      "V2         1      0      0      0      1      0      0  \n",
      "V3         1      0      0      1      1      0      0  \n",
      "V4         0      0      0      1      0      0      0  \n",
      "V5         0      0      0      1      0      0      0  \n",
      "...      ...    ...    ...    ...    ...    ...    ...  \n",
      "V1996      0      0      1      0      0      0      1  \n",
      "V1997      0      0      0      1      0      0      0  \n",
      "V1998      1      0      0      0      1      0      0  \n",
      "V1999      0      0      0      0      0      1      0  \n",
      "V2000      0      0      1      0      0      0      1  \n",
      "\n",
      "[2000 rows x 2000 columns]\n",
      "Adjacency matrix shape: (2000, 2000)\n",
      "Number of edges: 2000000\n",
      "Edge index shape: torch.Size([2, 2000000])\n",
      "tensor([[   0,    0,    0,  ..., 1991, 1995, 1999],\n",
      "        [   0,    2,    3,  ..., 1999, 1999, 1999]])\n"
     ]
    }
   ],
   "source": [
    "import torch\n",
    "import numpy as np\n",
    "import os\n",
    "import pandas as pd\n",
    "\n",
    "data_dir = \"1/\"\n",
    "\n",
    "postfix_tr = \"tr\"\n",
    "\n",
    "view_list = [1,2,3]\n",
    "\n",
    "def generate_edge_index(data_path):\n",
    "    adj = pd.read_csv(data_path, index_col=0)\n",
    "    adj = adj.values.astype(float)\n",
    "    edge_index = torch.tensor(np.where(adj == 1), dtype=torch.long)\n",
    "    \n",
    "    edge_index = torch.cat([edge_index, torch.flip(edge_index, [0])], dim=1)\n",
    "    \n",
    "    # Print debug info\n",
    "    print(f\"Adjacency matrix shape: {adj.shape}\")\n",
    "    print(f\"Number of edges: {edge_index.shape[1]}\")\n",
    "    print(f\"Edge index shape: {edge_index.shape}\")\n",
    "    \n",
    "    return edge_index\n",
    "edge_index = generate_edge_index(os.path.join(data_dir, \"adj1.csv\"))\n",
    "print(edge_index)\n",
    "\n",
    "for i in view_list:\n",
    "    x = np.loadtxt(os.path.join(data_dir, str(i)+f\"{postfix_tr}.csv\"), delimiter=',')\n",
    "\n",
    "    edge_index = generate_edge_index(os.path.join(data_dir, f\"adj{i}.csv\"))\n",
    "\n",
    "    y = np.loadtxt(os.path.join(data_dir, f\"labels{postfix_tr}.csv\"), delimiter=',') "
   ]
  }
 ],
 "metadata": {
  "kernelspec": {
   "display_name": "env",
   "language": "python",
   "name": "python3"
  },
  "language_info": {
   "codemirror_mode": {
    "name": "ipython",
    "version": 3
   },
   "file_extension": ".py",
   "mimetype": "text/x-python",
   "name": "python",
   "nbconvert_exporter": "python",
   "pygments_lexer": "ipython3",
   "version": "3.12.6"
  }
 },
 "nbformat": 4,
 "nbformat_minor": 2
}
